{
 "cells": [
  {
   "cell_type": "code",
   "execution_count": 44,
   "metadata": {},
   "outputs": [],
   "source": [
    "import numpy as np\n",
    "np.printoptions(precision=4)\n",
    "\n",
    "def rule1 (c, Aun):\n",
    "    Qun = np.abs(c)*Aun\n",
    "    return Qun\n",
    "\n",
    "def rule2 (c, A, Aun, Ae):\n",
    "    Qun = np.abs(c*Ae*A**(Ae-1))*Aun\n",
    "    return Qun\n",
    "\n",
    "def rule3(Aun, Bun):\n",
    "    Qun = np.sqrt(Aun**2 + Bun**2)\n",
    "    return Qun\n",
    "\n",
    "def rule4(Q, A, B, Aun, Bun, Ae, Be):\n",
    "    Qun = np.abs(Q)*np.sqrt(((Ae*Aun/A)**2)+((Be*Bun/B)**2))\n",
    "    return Qun"
   ]
  },
  {
   "cell_type": "code",
   "execution_count": 45,
   "metadata": {},
   "outputs": [],
   "source": [
    "#Variables\n",
    "#Parts 1/2/3, T=time=milliseconds, un=uncertainty, 1=basic, 2=parallel, 3=series\n",
    "\n",
    "THalf1 = 1\n",
    "THalf1_un = 1\n",
    "\n",
    "THalf2 = 1\n",
    "THalf2_un = 1\n",
    "\n",
    "THalf3 = 1\n",
    "THalf3_un = 1\n",
    "\n",
    "#Part 4, Res=resistance=ohms, Cap=capacitance=farads\n",
    "\n",
    "Res = 1\n",
    "Res_un = 1\n",
    "\n",
    "Cap1 = 1\n",
    "Cap2 = 1\n",
    "Cap_un = 1"
   ]
  },
  {
   "cell_type": "code",
   "execution_count": 46,
   "metadata": {},
   "outputs": [
    {
     "name": "stdout",
     "output_type": "stream",
     "text": [
      "Our t₁/₂ value for the basic circuit was 1.00 +/- 1.00 milliseconds. Our calculated time constant was 1.44 +/- 1.44 milliseconds.\n",
      "Our t₁/₂ value for parallel was 1.00 +/- 1.00 milliseconds. Our calculated time constant was 1.44 +/- 1.44 milliseconds.\n",
      "Our t₁/₂ value for series was 1.00 +/- 1.00 milliseconds. Our calculated time constant was 1.44 +/- 1.44 milliseconds.\n",
      "\n",
      "Our theoretical time constant for the basic circuit was 1000.00 +/- 1414.21 milliseconds.\n",
      "Our theoretical time constant for parallel was 2000.00 +/- 2449.49 milliseconds.\n",
      "Our theoretical time constant for series was 500.00 +/- 612.37 milliseconds.\n"
     ]
    }
   ],
   "source": [
    "#Calulations\n",
    "#Parts 1/2/3\n",
    "\n",
    "TCon1 = THalf1/np.log(2); TCon1_un = rule1((1/np.log(2)),THalf1_un)\n",
    "TCon2 = THalf2/np.log(2); TCon2_un = rule1((1/np.log(2)),THalf2_un)\n",
    "TCon3 = THalf3/np.log(2); TCon3_un = rule1((1/np.log(2)),THalf3_un)\n",
    "\n",
    "print(u'Our t\\u2081/\\u2082 value for the basic circuit was', '%.2f' % THalf1, '+/-', '%.2f' % THalf1_un, 'milliseconds.\\\n",
    " Our calculated time constant was', '%.2f' % TCon1, '+/-', '%.2f' % TCon1_un,'milliseconds.\\\n",
    "\\nOur t\\u2081/\\u2082 value for parallel was', '%.2f' % THalf2, '+/-', '%.2f' % THalf2_un, 'milliseconds.\\\n",
    " Our calculated time constant was', '%.2f' % TCon2, '+/-', '%.2f' % TCon2_un,'milliseconds.\\\n",
    "\\nOur t\\u2081/\\u2082 value for series was', '%.2f' % THalf3, '+/-', '%.2f' % THalf3_un, 'milliseconds.\\\n",
    " Our calculated time constant was', '%.2f' % TCon3, '+/-', '%.2f' % TCon3_un,'milliseconds.')\n",
    "\n",
    "#Part 4\n",
    "TotCap1 = Cap1; TotCap1_un = Cap_un\n",
    "TCon1 = TotCap1*Res; TCon1_un = rule4(TCon1, TotCap1, Res, TotCap1_un, Res_un, 1, 1)\n",
    "\n",
    "TotCap2 = (Cap1+Cap2); TotCap2_un = rule3(Cap_un, Cap_un)\n",
    "TCon2 = TotCap2*Res; TCon2_un = rule4(TCon2, TotCap2, Res, TotCap2_un, Res_un, 1, 1)\n",
    "\n",
    "TotCap3 = (Cap1**-1 + Cap2**-1)**-1\n",
    "TotCap3_un = rule2(1, (Cap1**-1 + Cap2**-1), rule3(rule2(1, Cap1, Cap_un, -1), rule2(1, Cap2, Cap_un, -1)), -1)\n",
    "TCon3 = TotCap3*Res; TCon3_un = rule4(TCon3, TotCap3, Res, TotCap3_un, Res_un, 1, 1)\n",
    "\n",
    "print('\\nOur theoretical time constant for the basic circuit was %.2f +/- %.2f' % (TCon1*1000, TCon1_un*1000), 'milliseconds.\\\n",
    "\\nOur theoretical time constant for parallel was %.2f +/- %.2f' % (TCon2*1000, TCon2_un*1000), 'milliseconds.\\\n",
    "\\nOur theoretical time constant for series was %.2f +/- %.2f' % (TCon3*1000, TCon3_un*1000), 'milliseconds.')"
   ]
  },
  {
   "cell_type": "code",
   "execution_count": null,
   "metadata": {},
   "outputs": [],
   "source": []
  }
 ],
 "metadata": {
  "kernelspec": {
   "display_name": "Python 3",
   "language": "python",
   "name": "python3"
  },
  "language_info": {
   "codemirror_mode": {
    "name": "ipython",
    "version": 3
   },
   "file_extension": ".py",
   "mimetype": "text/x-python",
   "name": "python",
   "nbconvert_exporter": "python",
   "pygments_lexer": "ipython3",
   "version": "3.7.6"
  }
 },
 "nbformat": 4,
 "nbformat_minor": 4
}
