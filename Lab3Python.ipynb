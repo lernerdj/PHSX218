{
 "cells": [
  {
   "cell_type": "code",
   "execution_count": 381,
   "metadata": {},
   "outputs": [],
   "source": [
    "import numpy as np"
   ]
  },
  {
   "cell_type": "code",
   "execution_count": 382,
   "metadata": {},
   "outputs": [],
   "source": [
    "def rule3(dA, dB):\n",
    "    dQ = np.sqrt(dA**2 + dB**2)\n",
    "    return dQ\n",
    "\n",
    "def rule4(Q, cons_array, unc_array, vals_array):\n",
    "    err_Q = np.abs(Q)*np.sqrt(np.sum((cons_array*unc_array/vals_array)**2))\n",
    "    return err_Q"
   ]
  },
  {
   "cell_type": "code",
   "execution_count": 383,
   "metadata": {},
   "outputs": [],
   "source": [
    "#theoretical temps, K=kelvin \n",
    "th_K_cold = 285.15\n",
    "th_ohms_cold = 186379\n",
    "th_K_hot = 301.15\n",
    "th_ohms_hot = 86419.5\n",
    "\n",
    "#experimental measurements, rm=room, un=uncertainty\n",
    "K_rm = 293.15\n",
    "K_rm_un = .5\n",
    "ohms_rm = 125807\n",
    "ohms_rm_un = 3021 #Determined by using C to ohms converter to find difference in max/min C values in ohms, and then dividing by two.\n",
    "\n",
    "ohms_cold = 186400 #foursigfigs\n",
    "ohms_hot = 86200 #threesigfigs\n",
    "ohms_un = 100\n",
    "\n",
    "K_cold = 285.15 #This is where the variables that are used in calculations begin.\n",
    "K_cold_un = .01 #Determined by using ohms to C converter to find difference in max/min ohm values in C, and then dividing by two.\n",
    "K_hot = 301.21\n",
    "K_hot_un = .025 #Determined by using ohms to C converter to find difference in max/min ohm values in C, and then dividing by two.\n",
    "\n",
    "#lead bucket measurements, kg=kilograms\n",
    "kg_b = 6.10\n",
    "kg_b_un = .005\n",
    "\n",
    "#aluminum cylinder measurements, dia=diameter=meters, rad=radius\n",
    "kg_cyl = .2025\n",
    "kg_cyl_un = .00005\n",
    "dia_cyl = .0477\n",
    "dia_cyl_un = .00005\n",
    "rad_cyl = dia_cyl*.5\n",
    "rad_cyl_un = dia_cyl_un*.5\n",
    "\n",
    "rotations = 321\n",
    "rotations_un = .5 #This is where the variables that are used in calculations end."
   ]
  },
  {
   "cell_type": "code",
   "execution_count": 384,
   "metadata": {},
   "outputs": [
    {
     "name": "stdout",
     "output_type": "stream",
     "text": [
      "Temperature Difference: 16.060 +/- 0.027 degrees celsius.\n",
      "Theta: 2.02e+03 +/- 3.14 radians.\n",
      "Torque: 1.43 +/- 0.002 newtons.\n",
      "Work: 2.88e+03 +/- 6 joules.\n",
      "Heat: 696 +/- 1 calories.\n"
     ]
    }
   ],
   "source": [
    "#calculations\n",
    "\n",
    "dK = K_hot - K_cold\n",
    "dK_un = rule3(K_hot_un, K_cold_un)\n",
    "\n",
    "theta = 2*3.1416*rotations\n",
    "theta_un = 2*3.1416*rotations_un\n",
    "\n",
    "torque = 9.80*rad_cyl*kg_b\n",
    "torque_cons_array = np.array([1, 1])\n",
    "torque_unc_array = np.array([rad_cyl_un, kg_b_un])\n",
    "torque_vals_array = np.array([rad_cyl, kg_b])\n",
    "torque_un = rule4(torque, torque_cons_array, torque_unc_array, torque_vals_array)\n",
    "\n",
    "work = torque*theta\n",
    "work_cons_array = np.array([1, 1])\n",
    "work_unc_array = np.array([torque_un, theta_un])\n",
    "work_vals_array = np.array([torque, theta])\n",
    "work_un = rule4(work, work_cons_array, work_unc_array, work_vals_array)\n",
    "\n",
    "cals = 214*kg_cyl*dK\n",
    "cals_cons_array = np.array([1, 1])\n",
    "cals_unc_array = np.array([kg_cyl_un, dK_un])\n",
    "cals_vals_array = np.array([kg_cyl, dK])\n",
    "cals_un = rule4(cals, cals_cons_array, cals_unc_array, cals_vals_array)\n",
    "\n",
    "print ('Temperature Difference:', '%.3f' % dK, '+/-', '%.2g' % dK_un, 'degrees celsius.',) #five sigfigs\n",
    "print ('Theta:', '%.3g' % theta, '+/-', '%.3g' % theta_un, 'radians.') #three sigfigs, so effectively zero uncertainty\n",
    "print ('Torque:', '%.3g' % torque, '+/-', '%.1g' % torque_un, 'newtons.') #three sigfigs, so effectively zero uncertainty\n",
    "print ('Work:', '%.3g' % work, '+/-', '%.1g' % work_un, 'joules.') #three sigfigs\n",
    "print ('Heat:', '%.4g' % cals, '+/-', '%.1g' % cals_un, 'calories.') #four sigfigs"
   ]
  },
  {
   "cell_type": "code",
   "execution_count": 385,
   "metadata": {},
   "outputs": [
    {
     "name": "stdout",
     "output_type": "stream",
     "text": [
      "Our experimental work-heat equivalent was equal to 4.13 +/- 0.01 joules per calorie. This is close to the accepted value of 4.19 joules per calorie.\n"
     ]
    }
   ],
   "source": [
    "#final answer!\n",
    "\n",
    "whequiv = work/cals\n",
    "whequiv_cons_array = np.array([1, -1])\n",
    "whequiv_unc_array = np.array([work_un, cals_un])\n",
    "whequiv_vals_array = np.array([work, cals])\n",
    "whequiv_un = rule4(whequiv, whequiv_cons_array, whequiv_unc_array, whequiv_vals_array)\n",
    "\n",
    "print ('Our experimental work-heat equivalent was equal to', '%.3g' % whequiv, '+/-', '%.1g' % \n",
    "        whequiv_un, 'joules per calorie. This is close to the accepted value of 4.19 joules per calorie.')"
   ]
  }
 ],
 "metadata": {
  "kernelspec": {
   "display_name": "Python 3",
   "language": "python",
   "name": "python3"
  },
  "language_info": {
   "codemirror_mode": {
    "name": "ipython",
    "version": 3
   },
   "file_extension": ".py",
   "mimetype": "text/x-python",
   "name": "python",
   "nbconvert_exporter": "python",
   "pygments_lexer": "ipython3",
   "version": "3.7.4"
  }
 },
 "nbformat": 4,
 "nbformat_minor": 4
}
