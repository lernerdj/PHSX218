{
 "cells": [
  {
   "cell_type": "code",
   "execution_count": 2,
   "metadata": {},
   "outputs": [],
   "source": [
    "import numpy as np\n",
    "\n",
    "def addexponent(vals, exp=-1):\n",
    "    Q = np.sum(np.array([vals])**float(exp))**float(exp)\n",
    "    return Q\n",
    "\n",
    "def subtractexponent(vals, exp=-1):\n",
    "    Q = np.subtract(np.array([vals])**float(exp))**float(exp)\n",
    "    return Q\n",
    "\n",
    "def addexponentun(vals, vals_un, exp=-1):\n",
    "    addexponentun = np.abs(addexponent(vals,exp))*np.abs(exp)*np.sqrt(np.sum(np.array([np.abs(np.array([vals])**float(exp))\\\n",
    "                    *np.abs(exp)*np.array([vals_un])/np.array([vals])])**2))/(addexponent(vals,exp)**(1/exp))\n",
    "    return addexponentun\n",
    "\n",
    "#def subtractinverseun(a, b, a_un, b_un):\n",
    "    inverseun = np.abs(subtractinverse(a,b))*(np.sqrt((np.abs(a**-1)*(a_un/np.abs(a)))**2+(np.abs(b**-1)*(b_un/np.abs(b)))**2))/np.abs(a**-1-b**-1)\n",
    "    return inverseun\n",
    "\n",
    "#The above functions calculate Q and dQ for two numbers or arrays and (for the uncertainty functions) their repective uncertainties.\n",
    "\n",
    "#def meanun(un_array):\n",
    "    Qun = np.abs(1/np.size(un_array))*np.sqrt(np.sum(un_array**2))\n",
    "    return Qun\n",
    "\n",
    "#def rule3(a_un, b_un):\n",
    "    Qun = np.sqrt(a_un**2 + b_un**2)\n",
    "    return Qun\n",
    "\n",
    "from IPython.display import IFrame\n",
    "#IFrame(\"LabPDFs/Lab10.pdf\", width=1219, height=500)"
   ]
  },
  {
   "cell_type": "code",
   "execution_count": 5,
   "metadata": {},
   "outputs": [
    {
     "name": "stdout",
     "output_type": "stream",
     "text": [
      "[0.143      0.15555556 0.14641638 0.1431746 ] 0.14703663524567961\n"
     ]
    }
   ],
   "source": [
    "#Parts 1 and 2.1 variables.\n",
    "\n",
    "i_un = .01; p_un = .0005\n",
    "\n",
    "array = np.array([[.143, .210, .286, .410, .570],[np.inf, .60, .30, .22, np.inf]])\n",
    "un_array = np.array([[i_un]*int(np.size(array)*.5),[p_un]*int(np.size(array)*.5)])\n",
    "\n",
    "#Parts 1 and 2.1 calculations.\n",
    "#The [x:x] and [-x:-x] mean delete:show from left to right, and show:delete from right to left, respectively.\n",
    "#Technically only one sigfig?\n",
    "\n",
    "fourfocals = np.apply_along_axis(addexponent, 0, array)[:4]\n",
    "avgthreefocals = np.mean(fourfocals); #avgfourfocals_un=meanun(np.apply_along_axis(addexponentun, 0, array, un_array)); #avgfourfocals_un = meanun(np.apply_along_axis(addexponentun, 0, (array, un_array))\n",
    "\n",
    "avgfourfocals_un = np.apply_along_axis(addexponentun, 1, array, un_array)\n",
    "\n",
    "#focalc = flengths[4]; focalc_un = addinverseun(i_array1[4], p_array1[4], i_un, p_un)\n",
    "#focald = subtractinverse(focalc, avgfourfocals); focald_un = subtractinverseun(focalc, avgfourfocals, focalc_un, avgfourfocals_un)\n",
    "\n",
    "#print ('Our focal lengths for parts 1.1 and 1.2 were, respectively,', fourfocalsp, 'meters. The average of these lengths is %.3f +/- %.3f meters.\\\n",
    "#\\n\\nOur combined focal length for part 2.1 was %.2f +/- %.3f meters. Our calculated focal length of the diverging lens for part 2.1 was \\\n",
    "#%.3f +/- %.3f meters.' %(avgfourfocals, avgfourfocals_un, focalc, focalc_un, focald, focald_un))\n",
    "\n",
    "#a = np.arange(20).reshape(1,2,10)\n",
    "\n",
    "#a22 = np.apply_over_axes(sum, a, [1,1])\n",
    "\n",
    "print(fourfocals, avgthreefocals)"
   ]
  },
  {
   "cell_type": "code",
   "execution_count": 4,
   "metadata": {},
   "outputs": [
    {
     "ename": "NameError",
     "evalue": "name 'subtractinverse' is not defined",
     "output_type": "error",
     "traceback": [
      "\u001b[0;31m---------------------------------------------------------------------------\u001b[0m",
      "\u001b[0;31mNameError\u001b[0m                                 Traceback (most recent call last)",
      "\u001b[0;32m<ipython-input-4-4ff97239fbc6>\u001b[0m in \u001b[0;36m<module>\u001b[0;34m\u001b[0m\n\u001b[1;32m      3\u001b[0m \u001b[0md1\u001b[0m \u001b[0;34m=\u001b[0m \u001b[0;36m.045\u001b[0m\u001b[0;34m;\u001b[0m \u001b[0md2\u001b[0m \u001b[0;34m=\u001b[0m \u001b[0;36m.080\u001b[0m\u001b[0;34m;\u001b[0m \u001b[0md_un\u001b[0m\u001b[0;34m=\u001b[0m\u001b[0mp_un\u001b[0m\u001b[0;34m\u001b[0m\u001b[0;34m\u001b[0m\u001b[0m\n\u001b[1;32m      4\u001b[0m \u001b[0;34m\u001b[0m\u001b[0m\n\u001b[0;32m----> 5\u001b[0;31m \u001b[0mp1\u001b[0m \u001b[0;34m=\u001b[0m \u001b[0;36m.60\u001b[0m\u001b[0;34m;\u001b[0m \u001b[0mi1\u001b[0m \u001b[0;34m=\u001b[0m \u001b[0msubtractinverse\u001b[0m\u001b[0;34m(\u001b[0m\u001b[0mavgfourfocals\u001b[0m\u001b[0;34m,\u001b[0m \u001b[0mp1\u001b[0m\u001b[0;34m)\u001b[0m\u001b[0;34m\u001b[0m\u001b[0;34m\u001b[0m\u001b[0m\n\u001b[0m\u001b[1;32m      6\u001b[0m \u001b[0mi2\u001b[0m \u001b[0;34m=\u001b[0m \u001b[0;36m.725\u001b[0m\u001b[0;34m;\u001b[0m \u001b[0mp2\u001b[0m \u001b[0;34m=\u001b[0m \u001b[0;34m-\u001b[0m\u001b[0;36m1\u001b[0m\u001b[0;34m*\u001b[0m\u001b[0;34m(\u001b[0m\u001b[0mi1\u001b[0m\u001b[0;34m-\u001b[0m\u001b[0md1\u001b[0m\u001b[0;34m)\u001b[0m\u001b[0;34m;\u001b[0m \u001b[0mp2_un\u001b[0m \u001b[0;34m=\u001b[0m \u001b[0mrule3\u001b[0m\u001b[0;34m(\u001b[0m\u001b[0msubtractinverseun\u001b[0m\u001b[0;34m(\u001b[0m\u001b[0mavgfourfocals\u001b[0m\u001b[0;34m,\u001b[0m \u001b[0mp1\u001b[0m\u001b[0;34m,\u001b[0m \u001b[0mavgfourfocals_un\u001b[0m\u001b[0;34m,\u001b[0m \u001b[0mp_un\u001b[0m\u001b[0;34m)\u001b[0m\u001b[0;34m,\u001b[0m\u001b[0md_un\u001b[0m\u001b[0;34m)\u001b[0m\u001b[0;34m\u001b[0m\u001b[0;34m\u001b[0m\u001b[0m\n\u001b[1;32m      7\u001b[0m \u001b[0;34m\u001b[0m\u001b[0m\n",
      "\u001b[0;31mNameError\u001b[0m: name 'subtractinverse' is not defined"
     ]
    }
   ],
   "source": [
    "#Part 2.2 variables.\n",
    "\n",
    "d1 = .045; d2 = .080; d_un=p_un\n",
    "\n",
    "p1 = .60; i1 = subtractinverse(avgfourfocals, p1)\n",
    "i2 = .725; p2 = -1*(i1-d1); p2_un = rule3(subtractinverseun(avgfourfocals, p1, avgfourfocals_un, p_un),d_un)\n",
    "\n",
    "p3 = .60; i3 = subtractinverse(avgfourfocals, p3)\n",
    "i4 = .288; p4 = -1*(i3-d2); p4_un = rule3(subtractinverseun(avgfourfocals, p3, avgfourfocals_un, p_un),d_un)\n",
    "\n",
    "#Part 2.2 calculations.\n",
    "\n",
    "i_array2 = np.array([i1, i2, i3, i4])\n",
    "p_array2 = np.array([p1, p2, p3, p4])\n",
    "flengths2 = addinverse(i_array2, p_array2)\n",
    "\n",
    "f1 = flengths2[1]; f1_un = addinverseun(i_array2[1], p_array2[1], i_un, p2_un)\n",
    "f2 = flengths2[3]; f2_un = addinverseun(i_array2[3], p_array2[3], i_un, p4_un)\n",
    "\n",
    "print ('Our calculated focal lengths of the diverging lens for part 2.2 at radii %.3f and %.3f meters were, respectively,\\\n",
    " %.3f +/- %.3f and %.3f +/- %.3f meters.' % (d1, d2, f1, f1_un, f2, f2_un))"
   ]
  }
 ],
 "metadata": {
  "kernelspec": {
   "display_name": "Python 3",
   "language": "python",
   "name": "python3"
  },
  "language_info": {
   "codemirror_mode": {
    "name": "ipython",
    "version": 3
   },
   "file_extension": ".py",
   "mimetype": "text/x-python",
   "name": "python",
   "nbconvert_exporter": "python",
   "pygments_lexer": "ipython3",
   "version": "3.7.6"
  }
 },
 "nbformat": 4,
 "nbformat_minor": 4
}
