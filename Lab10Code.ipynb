{
 "cells": [
  {
   "cell_type": "code",
   "execution_count": 259,
   "metadata": {},
   "outputs": [
    {
     "data": {
      "text/html": [
       "\n",
       "        <iframe\n",
       "            width=\"1219\"\n",
       "            height=\"500\"\n",
       "            src=\"LabPDFs/Lab10.pdf\"\n",
       "            frameborder=\"0\"\n",
       "            allowfullscreen\n",
       "        ></iframe>\n",
       "        "
      ],
      "text/plain": [
       "<IPython.lib.display.IFrame at 0x10e9ca5d0>"
      ]
     },
     "execution_count": 259,
     "metadata": {},
     "output_type": "execute_result"
    }
   ],
   "source": [
    "import numpy as np\n",
    "\n",
    "def addinverse(a, b):\n",
    "    focal = (a**-1+b**-1)**-1\n",
    "    return focal\n",
    "\n",
    "def subtractinverse(a, b):\n",
    "    focal = (a**-1-b**-1)**-1\n",
    "    return focal\n",
    "\n",
    "def addinverseun(Q, a, b, a_un, b_un):\n",
    "    inverseun = np.abs(Q)*(np.sqrt((np.abs(a**-1)*(a_un/np.abs(a)))**2+(np.abs(b**-1)*(b_un/np.abs(b)))**2))/np.abs(a**-1+b**-1)\n",
    "    return inverseun\n",
    "\n",
    "def subtractinverseun(Q, a, b, a_un, b_un):\n",
    "    inverseun = np.abs(Q)*(np.sqrt((np.abs(a**-1)*(a_un/np.abs(a)))**2+(np.abs(b**-1)*(b_un/np.abs(b)))**2))/np.abs(a**-1-b**-1)\n",
    "    return inverseun\n",
    "\n",
    "def meanun(un_array):\n",
    "    Qun = np.abs(1/np.size(un_array))*np.sqrt(np.sum(un_array**2))\n",
    "    return Qun\n",
    "\n",
    "def rule3(a_un, b_un):\n",
    "    Qun = np.sqrt(a_un**2 + b_un**2)\n",
    "    return Qun\n",
    "\n",
    "from IPython.display import IFrame\n",
    "#IFrame(\"LabPDFs/Lab10.pdf\", width=1219, height=500)"
   ]
  },
  {
   "cell_type": "code",
   "execution_count": 260,
   "metadata": {},
   "outputs": [
    {
     "name": "stdout",
     "output_type": "stream",
     "text": [
      "Our focal lengths for parts 1.1 and 1.2 were, respectively, [0.143 0.156 0.146 0.143] meters. The average of these lengths is 0.147 +/- 0.003 meters.\n",
      "Our combined focal length for part 2.1 was 0.57 +/- 0.010 meters. Our calculated focal length of the diverging lens for part 2.1 was -0.198 +/- 0.006 meters.\n"
     ]
    }
   ],
   "source": [
    "#Parts 1 and 2.1 variables.\n",
    "\n",
    "i_array1 = np.array([.143, .210, .286, .410, .570])\n",
    "p_array1 = np.array([np.inf, .60, .30, .22, np.inf])\n",
    "\n",
    "i_un = .01; i_unarray1 = np.array([i_un]*np.size(i_array1))\n",
    "p_un = .0005; p_unarray1 = np.array([p_un]*np.size(p_array1))\n",
    "\n",
    "#Parts 1 and 2.1 calculations.\n",
    "#The [x:x] and [-x:-x] mean delete:show from left to right, and show:delete from right to left, respectively.\n",
    "#Technically only one sigfig?\n",
    "\n",
    "flengths1 = addinverse(i_array1, p_array1)\n",
    "\n",
    "fourfocals = flengths1[:4]; fourfocalsp = np.around(fourfocals, 3)\n",
    "avgfourfocals = np.mean(fourfocals); avgfourfocals_un = meanun(addinverseun(avgfourfocals, i_array1[:4], p_array1[:4], i_unarray1[:4], p_unarray1[:4]))\n",
    "\n",
    "focalc = flengths[4]; focalc_un = addinverseun(focalc, i_array1[4], p_array1[4], i_un, p_un)\n",
    "focald = subtractinverse(focalc, avgfourfocals); focald_un = subtractinverseun(focald, focalc, avgfourfocals, focalc_un, avgfourfocals_un)\n",
    "\n",
    "print ('Our focal lengths for parts 1.1 and 1.2 were, respectively,', fourfocalsp, 'meters. The average of these lengths is %.3f +/- %.3f meters.\\\n",
    "\\nOur combined focal length for part 2.1 was %.2f +/- %.3f meters. Our calculated focal length of the diverging lens for part 2.1 was \\\n",
    "%.3f +/- %.3f meters.' %(avgfourfocals, avgfourfocals_un, focalc, focalc_un, focald, focald_un))"
   ]
  },
  {
   "cell_type": "code",
   "execution_count": 261,
   "metadata": {},
   "outputs": [
    {
     "name": "stdout",
     "output_type": "stream",
     "text": [
      "Our calculated focal lengths of the diverging lens for part 2.2 at radii 0.045 and 0.080 meters were, respectively, -0.189 +/- 0.008 and -0.191 +/- 0.015 meters.\n"
     ]
    }
   ],
   "source": [
    "#Part 2.2 variables.\n",
    "\n",
    "d1 = .045; d2 = .080; d_un=p_un\n",
    "\n",
    "p1 = .60; i1 = subtractinverse(avgfourfocals, p1)\n",
    "i2 = .725; p2 = -1*(i1-d1); p2_un = rule3(subtractinverseun(i1, avgfourfocals, p1, avgfourfocals_un, p_un),d_un)\n",
    "\n",
    "p3 = .60; i3 = subtractinverse(avgfourfocals, p3)\n",
    "i4 = .288; p4 = -1*(i3-d2); p4_un = rule3(subtractinverseun(i3, avgfourfocals, p3, avgfourfocals_un, p_un),d_un)\n",
    "\n",
    "#Part 2.2 calculations.\n",
    "\n",
    "i_array2 = np.array([i1, i2, i3, i4])\n",
    "p_array2 = np.array([p1, p2, p3, p4])\n",
    "flengths2 = addinverse(i_array2, p_array2)\n",
    "\n",
    "f1 = flengths2[1]; f1_un = addinverseun(f1, i_array2[1], p_array2[1], i_un, p2_un)\n",
    "f2 = flengths2[3]; f2_un = addinverseun(f2, i_array2[3], p_array2[3], i_un, p4_un)\n",
    "\n",
    "print ('Our calculated focal lengths of the diverging lens for part 2.2 at radii %.3f and %.3f meters were, respectively,\\\n",
    " %.3f +/- %.3f and %.3f +/- %.3f meters.' % (d1, d2, f1, f1_un, f2, f2_un))"
   ]
  }
 ],
 "metadata": {
  "kernelspec": {
   "display_name": "Python 3",
   "language": "python",
   "name": "python3"
  },
  "language_info": {
   "codemirror_mode": {
    "name": "ipython",
    "version": 3
   },
   "file_extension": ".py",
   "mimetype": "text/x-python",
   "name": "python",
   "nbconvert_exporter": "python",
   "pygments_lexer": "ipython3",
   "version": "3.7.6"
  }
 },
 "nbformat": 4,
 "nbformat_minor": 4
}
