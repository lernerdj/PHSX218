{
 "cells": [
  {
   "cell_type": "code",
   "execution_count": 308,
   "metadata": {},
   "outputs": [],
   "source": [
    "import numpy as np\n",
    "import matplotlib.pyplot as plt\n",
    "\n",
    "def rule4(Q, Ae, Be, Aun, Bun, A, B):\n",
    "    Qun = np.abs(Q)*np.sqrt(((Ae*Aun/A)**2)+((Be*Bun/B)**2))\n",
    "    return Qun\n",
    "\n",
    "def stdun(x):\n",
    "    stdun = np.std(x)/np.sqrt(x.size)\n",
    "    return stdun"
   ]
  },
  {
   "cell_type": "code",
   "execution_count": 309,
   "metadata": {},
   "outputs": [],
   "source": [
    "#Variables, V=volts, T=seconds, c=charge, d=discharge\n",
    "\n",
    "#Part 1, 13 values per array.\n",
    "Vcplot = np.array([])\n",
    "Tcplot = np.array([])\n",
    "\n",
    "Vdplot = np.array([])\n",
    "Tdplot = np.array([])\n",
    "\n",
    "#Part 2, 10 values per array.\n",
    "Vo = 0\n",
    "\n",
    "Vc = np.array([])\n",
    "Tc = np.array([0])\n",
    "\n",
    "Vd = np.array([])\n",
    "Td = np.array([0])\n",
    "\n",
    "#Part 3\n",
    "Ohms = 510e3\n",
    "Ohm_un = .01e3\n",
    "Farads = 47e-6\n",
    "Farad_un = .01e-6"
   ]
  },
  {
   "cell_type": "code",
   "execution_count": 310,
   "metadata": {},
   "outputs": [
    {
     "data": {
      "image/png": "[encoded data removed]",
      "text/plain": [
       "<Figure size 432x288 with 1 Axes>"
      ]
     },
     "metadata": {
      "needs_background": "light"
     },
     "output_type": "display_data"
    },
    {
     "data": {
      "image/png": "[encoded data removed]",
      "text/plain": [
       "<Figure size 432x288 with 1 Axes>"
      ]
     },
     "metadata": {
      "needs_background": "light"
     },
     "output_type": "display_data"
    }
   ],
   "source": [
    "#Part 1\n",
    "plt.plot(Vcplot,Tcplot); plt.ylabel('Volts'); plt.xlabel('Time'); plt.title('Charging Capacitor')\n",
    "plt.show()\n",
    "\n",
    "plt.plot(Vdplot,Tdplot); plt.ylabel('Volts'); plt.xlabel('Time'); plt.title('Discharging Capacitor')\n",
    "plt.show()"
   ]
  },
  {
   "cell_type": "code",
   "execution_count": 311,
   "metadata": {},
   "outputs": [
    {
     "name": "stdout",
     "output_type": "stream",
     "text": [
      "Our average charge time to 0.00  volts was 0.00 +/- 0.00 seconds.\n",
      "Our average discharge time to 0.00 volts was 0.00 +/- 0.00 seconds.\n",
      "\n",
      "Our theoretical time constant was 23.97 +/- 0.01 seconds.\n"
     ]
    }
   ],
   "source": [
    "#Part 2\n",
    "Vc_theoretical = .632*Vo\n",
    "Vd_theoretical = .368*Vo\n",
    "\n",
    "Tc_avg = np.mean(Tc); Tc_avgun = stdun(Tc)\n",
    "Td_avg = np.mean(Td); Td_avgun = stdun(Td)\n",
    "\n",
    "#print('Our theoretical values for voltage after one time constant when charging and discharging were, respectively,', '%.2f' % Vc_theoretical,'and\\\n",
    "#', '%.2f' % Vd_theoretical,'.')\n",
    "print('Our average charge time to', '%.2f' % Vc_theoretical, ' volts was', '%.2f' % Tc_avg, '+/-', '%.2f' % Tc_avgun,'seconds.\\\n",
    "\\nOur average discharge time to', '%.2f' % Vd_theoretical, 'volts was', '%.2f' % Td_avg, '+/-', '%.2f' % Td_avgun, 'seconds.' )\n",
    "\n",
    "#Part 3\n",
    "Tconstant = (Ohms * Farads); Tconstant_un = rule4(Tconstant, 1, 1, Ohm_un, Farad_un, Ohms, Farads)\n",
    "\n",
    "print('\\nOur theoretical time constant was', '%.2f' % Tconstant, '+/-', '%.2f' % Tconstant_un, 'seconds.')"
   ]
  }
 ],
 "metadata": {
  "kernelspec": {
   "display_name": "Python 3",
   "language": "python",
   "name": "python3"
  },
  "language_info": {
   "codemirror_mode": {
    "name": "ipython",
    "version": 3
   },
   "file_extension": ".py",
   "mimetype": "text/x-python",
   "name": "python",
   "nbconvert_exporter": "python",
   "pygments_lexer": "ipython3",
   "version": "3.7.6"
  }
 },
 "nbformat": 4,
 "nbformat_minor": 4
}
